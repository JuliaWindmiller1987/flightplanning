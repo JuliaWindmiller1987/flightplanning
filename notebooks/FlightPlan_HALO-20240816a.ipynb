{
 "cells": [
  {
   "cell_type": "code",
   "execution_count": null,
   "id": "178a623b",
   "metadata": {
    "scrolled": false
   },
   "outputs": [],
   "source": [
    "import cartopy.crs as ccrs\n",
    "import csv\n",
    "from dataclasses import asdict\n",
    "from datetime import datetime, timedelta\n",
    "import easygems.healpix as egh\n",
    "import intake\n",
    "import matplotlib.pyplot as plt\n",
    "import numpy as np\n",
    "import orcestra\n",
    "import orcestra.flightplan as fp\n",
    "import orcestra.sat\n",
    "from orcestra.flightplan import LatLon, IntoCircle, bco, sal\n",
    "import pandas as pd"
   ]
  },
  {
   "cell_type": "code",
   "execution_count": null,
   "id": "77ea638c",
   "metadata": {},
   "outputs": [],
   "source": [
    "# Function that finds longitude of ec track that corresponds to the provided latitude\n",
    "def find_ec_lon(lat_sel, ec_lons, ec_lats):\n",
    "    return ec_lons[np.argmin(np.abs(ec_lats-lat_sel))]"
   ]
  },
  {
   "cell_type": "code",
   "execution_count": null,
   "id": "2c3f410d",
   "metadata": {},
   "outputs": [],
   "source": [
    "# Define dates for forecast initialization and flight\n",
    "\n",
    "issued_time = datetime(2024, 8, 12, 12, 0, 0)\n",
    "issued_time_str = issued_time.strftime('%Y-%m-%d')\n",
    "\n",
    "flight_time = datetime(2024, 8, 16, 12, 0, 0)\n",
    "flight_time_str = flight_time.strftime('%Y-%m-%d')\n",
    "flight_index = f\"HALO-{flight_time.strftime('%Y%m%d')}a\"\n",
    "\n",
    "print(\"Initalization date of IFS forecast: \" + issued_time_str + \"\\nFlight date: \" + flight_time_str + \"\\nFlight index: \" + flight_index)"
   ]
  },
  {
   "cell_type": "code",
   "execution_count": null,
   "id": "75f18c4c",
   "metadata": {},
   "outputs": [],
   "source": [
    "# Domain definition\n",
    "# TO DO: replace by global definition once it exists\n",
    "lon_min, lon_max, lat_min, lat_max = -65, -5, -10, 25"
   ]
  },
  {
   "cell_type": "code",
   "execution_count": null,
   "id": "d9112560",
   "metadata": {},
   "outputs": [],
   "source": [
    "# Load forecast data\n",
    "cat = intake.open_catalog(\"https://tcodata.mpimet.mpg.de/internal.yaml\")\n",
    "ds = cat.HIFS(refdate=issued_time_str, reftime=issued_time.hour).to_dask().pipe(egh.attach_coords)"
   ]
  },
  {
   "cell_type": "code",
   "execution_count": null,
   "id": "710d8c93",
   "metadata": {},
   "outputs": [],
   "source": [
    "# Load ec satellite track for \n",
    "track = orcestra.sat.SattrackLoader(\"EARTHCARE\", \"2024-08-12\", kind=\"PRE\").get_track_for_day(flight_time_str)\n",
    "track = track.sel(time=slice(flight_time_str + \" 06:00\", None))\n",
    "ec_lons, ec_lats = track.lon.values, track.lat.values"
   ]
  },
  {
   "cell_type": "markdown",
   "id": "ee48eeba",
   "metadata": {},
   "source": [
    "**Waypoint definitions**"
   ]
  },
  {
   "cell_type": "code",
   "execution_count": null,
   "id": "3bf674cc",
   "metadata": {},
   "outputs": [],
   "source": [
    "# Mass flux circle radius (m)\n",
    "radius = 130e3\n",
    "atr_radius = 70e3"
   ]
  },
  {
   "cell_type": "code",
   "execution_count": null,
   "id": "8ec8b7f4-593b-40f1-a025-4602bc41c87d",
   "metadata": {},
   "outputs": [],
   "source": [
    "# Setting region (Cabo Verde vs. Barbados)\n",
    "band = \"east\"\n",
    "airport = sal if band == \"east\" else bco"
   ]
  },
  {
   "cell_type": "code",
   "execution_count": null,
   "id": "d8c7ac11",
   "metadata": {},
   "outputs": [],
   "source": [
    "# Latitudes where we enter ec track (visually estimated)\n",
    "lat_north = 15.0\n",
    "lat_south = 4.0"
   ]
  },
  {
   "cell_type": "code",
   "execution_count": null,
   "id": "09b7682c",
   "metadata": {},
   "outputs": [],
   "source": [
    "# ITCZ edges visually estimated from iwv contours\n",
    "lat_edge_south = 5.0\n",
    "lat_edge_north = 12.7"
   ]
  },
  {
   "cell_type": "code",
   "execution_count": null,
   "id": "2d02bed4",
   "metadata": {},
   "outputs": [],
   "source": [
    "# Setting lat/lon coordinates\n",
    "\n",
    "# Points where we get on ec track\n",
    "north_ec = LatLon(lat_north, find_ec_lon(lat_north, ec_lons, ec_lats), \"north_ec\")\n",
    "south_ec = LatLon(lat_south, find_ec_lon(lat_south, ec_lons, ec_lats), \"south_ec\")\n",
    "\n",
    "# Intersection of ITCZ edges with ec track\n",
    "circle_north = LatLon(lat_edge_north, find_ec_lon(lat_edge_north, ec_lons, ec_lats), \"circle_north\")\n",
    "circle_south = LatLon(lat_edge_south, find_ec_lon(lat_edge_south, ec_lons, ec_lats), \"circle_south\")\n",
    "\n",
    "# Center of middle circle\n",
    "circle_center = circle_south.towards(circle_north).assign_label(\"circle_center\")\n",
    "\n",
    "# EarthCARE meeting point between circles\n",
    "earthcare = circle_south.towards(circle_center).assign_label(\"earthcare\")\n",
    "\n",
    "# ATR\n",
    "atr = LatLon(17.8, -22.0, \"atr\")\n",
    "\n",
    "# Define flight track, can be split into different legs\n",
    "leg_south = [\n",
    "     airport, \n",
    "     north_ec,\n",
    "     south_ec\n",
    "]\n",
    "\n",
    "leg_circles = [\n",
    "     IntoCircle(circle_south, radius, 360),   \n",
    "     earthcare,\n",
    "     IntoCircle(circle_center, radius, 360), \n",
    "     IntoCircle(circle_north, radius, 360),\n",
    "]    \n",
    "\n",
    "leg_home = [\n",
    "     north_ec,\n",
    "     IntoCircle(atr, atr_radius, -360, enter = 30),\n",
    "     airport\n",
    "]\n",
    "\n",
    "waypoints = leg_south + leg_circles + leg_home \n",
    "\n",
    "path = fp.expand_path(waypoints, dx=10e3)"
   ]
  },
  {
   "cell_type": "code",
   "execution_count": null,
   "id": "d54aab7a",
   "metadata": {},
   "outputs": [],
   "source": [
    "plt.figure(figsize = (12, 8))\n",
    "ax = plt.axes(projection=ccrs.PlateCarree())\n",
    "ax.set_extent([lon_min, lon_max, lat_min, lat_max], crs=ccrs.PlateCarree())\n",
    "ax.coastlines(alpha=1.0)\n",
    "ax.gridlines(draw_labels=True, dms=True, x_inline=False, y_inline=False, alpha = 0.25)\n",
    "\n",
    "cwv_flight_time = ds[\"tcwv\"].sel(time=flight_time, method = \"nearest\")\n",
    "fp.plot_cwv(cwv_flight_time, levels = [45.0, 48.0, 50.0])\n",
    "plt.title(cwv_flight_time.time.values)\n",
    "\n",
    "plt.plot(ec_lons, ec_lats)\n",
    "fp.plot_path(path, ax, color=\"C1\")"
   ]
  },
  {
   "cell_type": "code",
   "execution_count": null,
   "id": "9cae6d93",
   "metadata": {},
   "outputs": [],
   "source": [
    "pd.DataFrame.from_records(map(asdict, [north_ec, circle_north, circle_center, circle_south, south_ec, earthcare, atr])).set_index(\"label\")"
   ]
  },
  {
   "cell_type": "code",
   "execution_count": null,
   "id": "8c8a6515-4818-4391-8852-9ca96edb5bb6",
   "metadata": {},
   "outputs": [],
   "source": [
    "from tabulate import tabulate\n",
    "\n",
    "def decimal_to_degrees_minutes(decimal):\n",
    "    degrees = int(decimal)\n",
    "    minutes = abs(decimal - degrees) * 60\n",
    "    return f\"{degrees}° {minutes:.2f}'\".replace('.', ',')\n",
    "\n",
    "table = []\n",
    "\n",
    "for point in waypoints:\n",
    "    if isinstance(point, IntoCircle):\n",
    "        point = point.center\n",
    "    lat_deg_min = decimal_to_degrees_minutes(point.lat)\n",
    "    lon_deg_min = decimal_to_degrees_minutes(point.lon)\n",
    "    table.append([point.label, lat_deg_min, lon_deg_min, f\"{point.lat:.4f}\".replace('.', ','), f\"{point.lon:.4f}\".replace('.', ',')])\n",
    "\n",
    "# Print the table with headers\n",
    "print(tabulate(table, headers=[\"Label\", \"Latitude \", \"Longitude\", \"Latitude (decimal)\", \"Longitude (decimal)\"], tablefmt=\"pretty\", colalign=(\"left\", \"right\", \"right\", \"right\", \"right\")))\n",
    "\n",
    "# Save the table to a CSV file\n",
    "csv_file = f\"{flight_index}_waypoints.csv\"\n",
    "with open(csv_file, mode='w', newline='') as file:\n",
    "    writer = csv.writer(file)\n",
    "    writer.writerow([\"Label\", \"Latitude\", \"Longitude\", \"Latitude (decimal)\", \"Longitude (decimal)\"])  # Writing the header\n",
    "    writer.writerows(table)  # Writing the table data\n",
    "\n",
    "print(f\"Table saved to {csv_file}\")"
   ]
  },
  {
   "cell_type": "code",
   "execution_count": null,
   "id": "3d313c39-feed-429c-8bb1-404a9b825556",
   "metadata": {},
   "outputs": [],
   "source": []
  }
 ],
 "metadata": {
  "kernelspec": {
   "display_name": "Python 3 (ipykernel)",
   "language": "python",
   "name": "python3"
  },
  "language_info": {
   "codemirror_mode": {
    "name": "ipython",
    "version": 3
   },
   "file_extension": ".py",
   "mimetype": "text/x-python",
   "name": "python",
   "nbconvert_exporter": "python",
   "pygments_lexer": "ipython3",
   "version": "3.9.19"
  },
  "vscode": {
   "interpreter": {
    "hash": "c00e5cef07046bc2f1467ae1539e8acd91ebfcd555857d394dae5bec1c9b15ea"
   }
  }
 },
 "nbformat": 4,
 "nbformat_minor": 5
}
