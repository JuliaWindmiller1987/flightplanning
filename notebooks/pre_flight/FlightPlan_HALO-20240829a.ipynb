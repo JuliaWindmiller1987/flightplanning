{
 "cells": [
  {
   "cell_type": "code",
   "execution_count": null,
   "id": "c45e088a-835a-450c-b4e9-f48ee70a3057",
   "metadata": {},
   "outputs": [],
   "source": [
    "%load_ext autoreload\n",
    "%autoreload 2"
   ]
  },
  {
   "cell_type": "code",
   "execution_count": null,
   "id": "178a623b",
   "metadata": {},
   "outputs": [],
   "source": [
    "from dataclasses import asdict\n",
    "from datetime import datetime\n",
    "import cartopy.crs as ccrs\n",
    "import easygems.healpix as egh\n",
    "import intake\n",
    "import matplotlib.pyplot as plt\n",
    "import numpy as np\n",
    "import orcestra\n",
    "import orcestra.flightplan as fp\n",
    "import orcestra.sat\n",
    "from orcestra.flightplan import LatLon, IntoCircle, bco, sal, mindelo, find_ec_lon, vertical_preview, to_kml, ec_time_at_lat\n",
    "\n",
    "# Global coordinates and definitions that should not change from flight to flight\n",
    "\n",
    "lon_min, lon_max, lat_min, lat_max = -65, -5, -5, 25\n",
    "\n",
    "radius = 133e3\n",
    "atr_radius = 70e3\n",
    "\n",
    "band = \"east\"\n",
    "airport = sal if band == \"east\" else bco\n",
    "natal = LatLon(-5 - 47/60. - 42.00/3600.,-35 - 12/60. - 33.98/3600., label = \"natal\")"
   ]
  },
  {
   "cell_type": "code",
   "execution_count": null,
   "id": "2c3f410d",
   "metadata": {},
   "outputs": [],
   "source": [
    "# Basic information\n",
    "lon_min, lon_max, lat_min, lat_max = -65, -5, -5, 25\n",
    "\n",
    "# Define dates for forecast initialization and flight\n",
    "\n",
    "issued_time = datetime(2024, 8, 25, 0, 0, 0)\n",
    "\n",
    "flight_time = datetime(2024, 8, 29, 12, 0, 0)\n",
    "flight_index = f\"HALO-{flight_time.strftime('%Y%m%d')}a\"\n",
    "\n",
    "# adjust takeoff time to match EC overpass\n",
    "takeoff_time = np.datetime64(\"2025-08-29T12:20:00.0\")\n",
    "\n",
    "print(\n",
    "    f\"Initalization date of IFS forecast: {issued_time}\\n\"\n",
    "    f\"Flight date: {flight_time:%Y-%m-%d}\\n\"\n",
    "    f\"Flight index: {flight_index}\"\n",
    ")\n",
    "\n",
    "crew = {'Mission PI': 'Silke Groß',\n",
    "        'DropSondes': 'Helene Glöckner',\n",
    "        'HAMP': 'Clara Bayley',\n",
    "        'SMART/VELOX': 'Kevin Wolf',\n",
    "        'SpecMACS': 'Zekican Demiralay',\n",
    "        'WALES' : 'Georgios Dekoutsidis',\n",
    "        'Flight Documentation': 'Nicola Rochetin',\n",
    "        'Ground Support': 'Marius Rixen',\n",
    "        }"
   ]
  },
  {
   "cell_type": "code",
   "execution_count": null,
   "id": "d9112560",
   "metadata": {},
   "outputs": [],
   "source": [
    "# Load forecast data\n",
    "cat = intake.open_catalog(\"https://tcodata.mpimet.mpg.de/internal.yaml\")\n",
    "ds = cat.HIFS(datetime = issued_time).to_dask().pipe(egh.attach_coords)\n",
    "\n",
    "# Load ec satellite track for \n",
    "ec_track = orcestra.sat.SattrackLoader(\"EARTHCARE\", \"2024-08-26\", kind=\"PRE\").get_track_for_day(f\"{flight_time:%Y-%m-%d}\")\n",
    "ec_track = ec_track.sel(time=slice(f\"{flight_time:%Y-%m-%d} 06:00\", None))\n",
    "ec_lons, ec_lats = ec_track.lon.values, ec_track.lat.values"
   ]
  },
  {
   "cell_type": "markdown",
   "id": "ee48eeba",
   "metadata": {},
   "source": [
    "**Waypoint definitions**"
   ]
  },
  {
   "cell_type": "code",
   "execution_count": null,
   "id": "7bcc1697-be9d-4e16-a347-64ccfd92cdde",
   "metadata": {},
   "outputs": [],
   "source": [
    "mindelo"
   ]
  },
  {
   "cell_type": "code",
   "execution_count": null,
   "id": "d8c7ac11",
   "metadata": {},
   "outputs": [],
   "source": [
    "# Latitudes where we enter and leave the ec track (visually estimated)\n",
    "lat_ec_north = 15.0\n",
    "lat_ec_south = 2.5\n",
    "\n",
    "# latitude of circle centers\n",
    "lat_c_south_s = 3.5\n",
    "lat_c_south = 4.5\n",
    "lat_c_south_n = 5.5\n",
    "lat_c_north = 13.0\n",
    "lat_c_north_s = 12.0\n",
    "\n",
    "lat_c_mid_s = 7.5\n",
    "lat_c_mid = 8.5\n",
    "lat_c_mid_n = 9.5\n",
    "\n",
    "lat_ec_under = 5.0\n",
    "\n",
    "#c_atr_nw = LatLon(17.433,-23.500, label = \"c_atr\")\n",
    "#c_atr_se = LatLon(16.080,-21.715, label = \"c_atr\")\n",
    "\n",
    "c_atr_nw = LatLon(18.58125000,-24.27616667, label = \"c_atr\")\n",
    "c_atr_se = LatLon(15.79318333,-24.82891944, label = \"c_atr\")\n",
    "\n",
    "# create ec track\n",
    "ec_north = LatLon(lat_ec_north, find_ec_lon(lat_ec_north, ec_lons, ec_lats), label = \"ec_north\")\n",
    "ec_south = LatLon(lat_ec_south, find_ec_lon(lat_ec_south, ec_lons, ec_lats), label = \"ec_south\")\n",
    "\n",
    "# create circles\n",
    "c_north = LatLon(lat_c_north, find_ec_lon(lat_c_north, ec_lons, ec_lats), label = \"c_north\")\n",
    "c_north_alt_s = LatLon(lat_c_north_s, find_ec_lon(lat_c_north_s, ec_lons, ec_lats), label = \"c_north_alt_s\")\n",
    "\n",
    "c_south = LatLon(lat_c_south, find_ec_lon(lat_c_south, ec_lons, ec_lats), label = \"c_south\")\n",
    "c_south_s = LatLon(lat_c_south_s, find_ec_lon(lat_c_south_s, ec_lons, ec_lats), label = \"c_south_s\")\n",
    "c_south_n = LatLon(lat_c_south_n, find_ec_lon(lat_c_south_n, ec_lons, ec_lats), label = \"c_south_n\")\n",
    "\n",
    "c_mid = LatLon(lat_c_mid, find_ec_lon(lat_c_mid, ec_lons, ec_lats), label = \"c_mid\")\n",
    "c_mid_s = LatLon(lat_c_mid_s, find_ec_lon(lat_c_mid_s, ec_lons, ec_lats), label = \"c_mid_s\")\n",
    "c_mid_n = LatLon(lat_c_mid_n, find_ec_lon(lat_c_mid_n, ec_lons, ec_lats), label = \"c_mid_n\")\n",
    "\n",
    "# ec underpass\n",
    "ec_under = LatLon(lat_ec_under, find_ec_lon(lat_ec_under, ec_lons, ec_lats), label = \"ec_under\")\n",
    "ec_under = ec_under.assign(time=str(ec_time_at_lat(ec_track, ec_under.lat).values)+\"Z\")\n",
    "\n",
    "# Define flight track\n",
    "outbound_legs = [\n",
    "     airport,\n",
    "     mindelo,\n",
    "     ec_north.assign(fl=410),\n",
    "     ]\n",
    "\n",
    "ec_legs = [\n",
    "     IntoCircle(c_south.assign(fl=430), radius, 360),   \n",
    "     ec_south.assign(fl=410),\n",
    "     ec_under.assign(fl=450),\n",
    "     IntoCircle(c_mid.assign(fl=430), radius, 360), \n",
    "     c_north_alt_s.assign(fl=430),\n",
    "     IntoCircle(c_north.assign(fl=450), radius, 360),   \n",
    "     ]\n",
    "inbound_legs = [\n",
    "     ec_north.assign(fl=450),\n",
    "     IntoCircle(c_atr_nw.assign(fl=350), atr_radius, 360),\n",
    "     IntoCircle(c_atr_se.assign(fl=350), atr_radius, 360),\n",
    "     airport,\n",
    "     ]\n",
    "\n",
    "waypoints = outbound_legs + ec_legs + inbound_legs \n",
    "\n",
    "waypoint_centers = []\n",
    "for point in waypoints:\n",
    "    if isinstance(point, IntoCircle):\n",
    "        point = point.center\n",
    "    waypoint_centers.append(point)\n",
    "\n",
    "path = fp.expand_path(waypoints, dx=10e3)"
   ]
  },
  {
   "cell_type": "code",
   "execution_count": null,
   "id": "898180e8",
   "metadata": {},
   "outputs": [],
   "source": [
    "# extra way points off track\n",
    "\n",
    "plan = path.isel(distance = path.waypoint_indices).to_dataframe().set_index(\"waypoint_labels\")\n",
    "\n",
    "\n",
    "xwp_2 = LatLon(lat_c_south-1, find_ec_lon(lat_c_south-1, ec_lons, ec_lats), label = \"xwp2\")\n",
    "xwp_3 = LatLon(c_atr_nw.lat,c_atr_nw.lon, label = \"xwp3\")\n",
    "extra_waypoints = [xwp_2,xwp_3]\n",
    "\n",
    "notes = {'c_south_in':f' {radius/1852:2.0f} nm circle centered at {c_south.format_pilot()}, enter from north, CCW',\n",
    "        'c_mid_in':f' {radius/1852:2.0f} nm circle centered at {c_mid.format_pilot()}, enter from north, CCW',\n",
    "        'c_north_in':f' {radius/1852:2.0f} nm circle centered at {c_north.format_pilot()}, enter from south, CCW',\n",
    "        'c_atr_in':f' {atr_radius/1852:2.0f} nm circle centered at {c_atr_se.format_pilot()}, enter from west, CW',\n",
    "        'xwp2':'Alternative center for c_south',\n",
    "        'xwp3':'Alternative center for c_atr',\n",
    "         }\n"
   ]
  },
  {
   "cell_type": "code",
   "execution_count": null,
   "id": "d54aab7a",
   "metadata": {},
   "outputs": [],
   "source": [
    "plt.figure(figsize = (14, 8))\n",
    "ax = plt.axes(projection=ccrs.PlateCarree())\n",
    "ax.set_extent([lon_min, lon_max, lat_min, lat_max], crs=ccrs.PlateCarree())\n",
    "ax.coastlines(alpha=1.0)\n",
    "ax.gridlines(draw_labels=True, dms=True, x_inline=False, y_inline=False, alpha = 0.25)\n",
    "\n",
    "cwv_flight_time = ds[\"tcwv\"].sel(time=flight_time, method = \"nearest\")\n",
    "fp.plot_cwv(cwv_flight_time, levels = [48.0, 50.0, 52.0, 54.0, 56.0, 58.0, 60.0])\n",
    "plt.title(f\"{flight_time}\\n(CWV forecast issued on {issued_time})\")\n",
    "\n",
    "plt.plot(ec_lons, ec_lats, c='k', ls='dotted')\n",
    "\n",
    "if (False):\n",
    "    plt.plot([natal.lon,sal.lon], [natal.lat,sal.lat], c='purple', ls='dashed')\n",
    "\n",
    "for wp in waypoint_centers:\n",
    "    plt.scatter(wp.lon,wp.lat,s=10.,color='k')\n",
    "for wp in extra_waypoints:\n",
    "    plt.scatter(wp.lon,wp.lat,s=10.,color='r',marker='o')\n",
    "fp.plot_path(path, ax, color=\"C1\")\n",
    "plt.savefig(f'{flight_index}_track.png')"
   ]
  },
  {
   "cell_type": "code",
   "execution_count": null,
   "id": "6e2e23df-0f53-43d0-8fc5-2ccc9af9c14d",
   "metadata": {},
   "outputs": [],
   "source": [
    "import pandas as pd"
   ]
  },
  {
   "cell_type": "code",
   "execution_count": null,
   "id": "5cf93a12-5846-4410-9a3c-d7e469dee99c",
   "metadata": {},
   "outputs": [],
   "source": [
    "pd.DataFrame.from_records(map(asdict, [mindelo, \n",
    "                                       ec_north,\n",
    "                                       ec_south,\n",
    "                                       c_atr_nw,\n",
    "                                       c_atr_se,\n",
    "                                       ec_under,\n",
    "                                       c_north,\n",
    "                                       c_mid_n,\n",
    "                                       c_mid_s,\n",
    "                                       c_mid,\n",
    "                                       c_south_n,\n",
    "                                       c_south_s,\n",
    "                                       c_south,\n",
    "                                       mindelo\n",
    "                                      ])).set_index(\"label\")"
   ]
  },
  {
   "cell_type": "code",
   "execution_count": null,
   "id": "8208ce70-97ff-44e1-8ece-13d8b5974d61",
   "metadata": {},
   "outputs": [],
   "source": [
    "vertical_preview(waypoints)\n",
    "plt.title(\"Profile\")\n",
    "plt.savefig(f'{flight_index}_profile.png')"
   ]
  },
  {
   "cell_type": "code",
   "execution_count": null,
   "id": "6f559861-270b-427b-832d-f5b9dae0f1de",
   "metadata": {},
   "outputs": [],
   "source": [
    "plan"
   ]
  },
  {
   "cell_type": "code",
   "execution_count": null,
   "id": "b0c6e7aa",
   "metadata": {},
   "outputs": [],
   "source": [
    "# Detailed overview with notes\n",
    "for index, row in plan.iterrows():\n",
    "    if (index[0]+index[-4:]!='c_out'):\n",
    "        print(f\"{index:12s} {LatLon(row['lat'],row['lon']).format_pilot():20s}, FL{int(row['fl']):03d}, {row['time']:%H:%M:%S}, {notes.get(index,'')}\" )\n",
    "print ('\\n-- circle centers:')\n",
    "for point in waypoints:\n",
    "    if isinstance(point, IntoCircle):\n",
    "        point = point.center\n",
    "        print (f'{point.label:12s} {point.format_pilot()}')\n",
    "print ('\\n-- extra waypoints:')\n",
    "for point in extra_waypoints:\n",
    "    print (f'{point.label:12s} {point.format_pilot()}, {notes.get(point.label,'')}' )\n",
    "print ('\\nCrew:')\n",
    "for position,person in crew.items():\n",
    "    print (f'{position:22s} {person}')"
   ]
  },
  {
   "cell_type": "markdown",
   "id": "426fdb49",
   "metadata": {},
   "source": [
    "### Export kml and text file for FX and pilots"
   ]
  },
  {
   "cell_type": "code",
   "execution_count": null,
   "id": "f01cc1f4",
   "metadata": {},
   "outputs": [],
   "source": [
    "with open(f\"{flight_index}.kml\", \"w\") as f:\n",
    "    f.write(to_kml(path))"
   ]
  },
  {
   "cell_type": "code",
   "execution_count": null,
   "id": "30804f68",
   "metadata": {},
   "outputs": [],
   "source": [
    "with open( f\"{flight_index}_waypoints.txt\", \"w\") as file:\n",
    "    file.write(f\"Flight {flight_index}\\n\\n\")\n",
    "    #\n",
    "    # DM Format\n",
    "    file.write(\"------------------------------------------------------------\\n\")\n",
    "    file.write(\"\\nDM Format:\\n\")\n",
    "    file.write(\" \".join(wp.format_1min() for wp in waypoint_centers) + \"\\n\")\n",
    "    for point in extra_waypoints:\n",
    "        file.write(f\"Extra waypoint: {point.format_1min()}\\n\")\n",
    "    #\n",
    "    # DM.mm format\n",
    "    file.write(\"\\n------------------------------------------------------------\\n\")\n",
    "    file.write(\"\\nDMmm Format:\\n\")\n",
    "    for point in waypoint_centers:\n",
    "        file.write(f\"{point.format_pilot()}, {point.label}\\n\")\n",
    "    file.write(\"\\n-- extra waypoints:\\n\")\n",
    "    for point in extra_waypoints:\n",
    "        file.write(f\"{point.format_pilot()}, {notes.get(point.label,'')}\\n\")\n",
    "    #\n",
    "    # Detailed overview with notes\n",
    "    file.write(\"\\n------------------------------------------------------------\\n\")\n",
    "    file.write(f\"\\n\\nDetailed Overview:\\n\")\n",
    "    for index, row in plan.iterrows():\n",
    "        if (index[0]+index[-4:]!='c_out'):\n",
    "            file.write(f\"{index:12s} {LatLon(row['lat'],row['lon']).format_pilot():20s}, FL{int(row['fl']):03d}, {takeoff_time+row['duration']:%H:%M:%S}, {notes.get(index,'')}\\n\" )\n",
    "    file.write ('\\n -- circle centers:')\n",
    "    for point in waypoints:\n",
    "        if isinstance(point, IntoCircle):\n",
    "            point = point.center\n",
    "            file.write (f'\\n{point.label:12s} {point.format_pilot()}')\n",
    "    file.write ('\\n\\n -- extra waypoints:')\n",
    "    for point in extra_waypoints:\n",
    "        file.write (f'\\n{point.label:12s} {point.format_pilot()}, {notes.get(point.label,'')}' )\n",
    "    file.write ('\\n\\nCrew:')\n",
    "    for position,person in crew.items():\n",
    "        file.write (f'\\n{position:22s} {person}')\n"
   ]
  },
  {
   "cell_type": "code",
   "execution_count": null,
   "id": "c8e4cbab-5bfd-4f94-8316-2d6fa7140b4a",
   "metadata": {},
   "outputs": [],
   "source": [
    "waypoint_centers"
   ]
  },
  {
   "cell_type": "code",
   "execution_count": null,
   "id": "91488b00-78d1-4337-983f-38eba035afcc",
   "metadata": {},
   "outputs": [],
   "source": [
    "c_north_alt_s.format_1min()"
   ]
  },
  {
   "cell_type": "code",
   "execution_count": null,
   "id": "4fd13e0b-488f-4551-995b-5ddaf1733284",
   "metadata": {},
   "outputs": [],
   "source": []
  }
 ],
 "metadata": {
  "kernelspec": {
   "display_name": "Python 3 (ipykernel)",
   "language": "python",
   "name": "python3"
  },
  "language_info": {
   "codemirror_mode": {
    "name": "ipython",
    "version": 3
   },
   "file_extension": ".py",
   "mimetype": "text/x-python",
   "name": "python",
   "nbconvert_exporter": "python",
   "pygments_lexer": "ipython3",
   "version": "3.12.5"
  },
  "vscode": {
   "interpreter": {
    "hash": "c00e5cef07046bc2f1467ae1539e8acd91ebfcd555857d394dae5bec1c9b15ea"
   }
  }
 },
 "nbformat": 4,
 "nbformat_minor": 5
}
